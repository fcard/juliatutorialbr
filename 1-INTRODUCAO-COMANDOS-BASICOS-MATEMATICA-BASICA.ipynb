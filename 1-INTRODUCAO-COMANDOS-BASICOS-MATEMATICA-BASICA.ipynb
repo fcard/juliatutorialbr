{
 "cells": [
  {
   "cell_type": "markdown",
   "metadata": {},
   "source": [
    "#** INTRODUÇÃO JULIA ** #\n",
    "\n",
    "**Histórico**\n",
    "\n",
    "*   Julia é uma linguagem de programação dinâmica de alto nível projetado para atender os requisitos da computação de alto desempenho numérico e científica , sendo também eficaz para a programação de propósito geral. Julia é escrito em C , C++, e Scheme, usando a estrutura do compilador LLVM , enquanto a maior parte da biblioteca padrão de Julia é implementado na própria Julia. O desenvolvimento de Julia começou em 2009 e uma versão de código aberto foi divulgado em fevereiro de 2012\\. Alguns aspectos incomuns do projeto Julia incluem ter um sistema sofisticado, com tipos paramétricos dependentes de uma linguagem de programação totalmente dinâmico e adotando expedição múltipla como seu paradigma de programação do núcleo. Cada um desses recursos tem aparecido em dialetos Lisp , como Common Lisp e Dylan, mas a combinação dos dois em um único idioma é único ( ver recursos de linguagem ) . O aspecto mais notável da implementação da Julia é o seu desempenho, que muitas vezes é o dobro do código C , totalmente otimizado, colocando-o no reino de linguagens compiladas de alto desempenho. Julia se inspira significativamente em Matlab e vários dialetos de Lisp , incluindo Scheme e Common Lisp , e compartilha muitas características com Dylan - uma outra linguagem dinâmica múltipla orientada a expedição com a sintaxe - e Fortress (linguagem de programação), outra linguagem de programação numérica com expedição múltipla e um sofisticado sistema de tipo paramétrico . Enquanto CLOS acrescenta expedição múltipla para Common Lisp , a adição é opt-in : funções só definidos pelo usuário explicitamente declarados genérico pode ser estendida. Em Julia , Dylan e Fortress, por outro lado, essa extensibilidade é o padrão e funções internas do sistema são todos genéricos e extensíveis.\n",
    "\n",
    "**Características da Linguagem de Programação**\n",
    "\n",
    "*   Julia é extensível a partir da utilização de módulos carregáveis.\n",
    "*   O interpretador do Julia trabalha em conjunto com os softwares gnuplot e Grace para plotar gráficos, grafos e para salva-los.\n",
    "\n",
    "**Aplicações**\n",
    "\n",
    "*   Julia é projetado para resolver problemas matemáticos numericamente, que consiste em calcular os valores na memória do computador. Isso significa que nem sempre ele não poderá dar uma solução analítica para um problema, e não deve ser confundido com programas como o Mathematica ou Maple, que trablham com soluções simbólicas, fazendo a manipulação algébrica. Isso não significa que seja melhor ou pior - ele é utilizado para diferentes tarefas. A maioria dos problemas matemáticos reais (particularmente em engenharia) não têm soluções simbólicas puras."
   ]
  },
  {
   "cell_type": "markdown",
   "metadata": {},
   "source": [
    "## O QUE JULIA É CAPAZ DE FAZER"
   ]
  },
  {
   "cell_type": "markdown",
   "metadata": {
    "collapsed": true
   },
   "source": [
    "|               | Fortran   | Julia | Python | R      | Matlab | Octave  | Mathe-matica | JavaScript    | Go    | LuaJIT          | Java     |\n",
    "| ------------- | --------- | ----- | ------ | ------ | ------ | ------- | ------------ | ------------- | ----- | --------------- | -------- |\n",
    "|               | gcc 5.1.1 | 0.4.0 | 3.4.3  | 3.2.2  | R2015b | 4.0.0   | 10.2.0       | V8 3.28.71.19 | go1.5 | gsl-shell 2.3.1 | 1.8.0_45 |\n",
    "| fib           | 0.70      | 2.11  | 77.76  | 533.52 | 26.89  | 9324.35 | 118.53       | 3.36          | 1.86  | 1.71            | 1.21     |\n",
    "| parse_int     | 5.05      | 1.45  | 17.02  | 45.73  | 802.52 | 9581.44 | 15.02        | 6.06          | 1.20  | 5.77            | 3.35     |\n",
    "| quicksort     | 1.31      | 1.15  | 32.89  | 264.54 | 4.92   | 1866.01 | 43.23        | 2.70          | 1.29  | 2.03            | 2.60     |\n",
    "| mandel        | 0.81      | 0.79  | 15.32  | 53.16  | 7.58   | 451.81  | 5.13         | 0.66          | 1.11  | 0.67            | 1.35     |\n",
    "| pi_sum        | 1.00      | 1.00  | 21.99  | 9.56   | 1.00   | 299.31  | 1.69         | 1.01          | 1.00  | 1.00            | 1.00     |\n",
    "| rand_mat_stat | 1.45      | 1.66  | 17.93  | 14.56  | 14.52  | 30.93   | 5.95         | 2.30          | 2.96  | 3.27            | 3.92     |\n",
    "| rand_mat_mul  | 3.48      | 1.02  | 1.14   | 1.57   | 1.12   | 1.12    | 1.30         | 15.07         | 1.42  | 1.16            | 2.36     |\n",
    "\n",
    "**Tabela:** benchmark tempo em segundos de processamento relative to C (smaller is better, C performance = 1.0)."
   ]
  },
  {
   "cell_type": "markdown",
   "metadata": {},
   "source": [
    "## COMPARAÇÃO COM OUTROS SOFTWARES DE COMPUTAÇÃO CIENTÍFICA"
   ]
  },
  {
   "cell_type": "markdown",
   "metadata": {},
   "source": [
    "### JULIA X MATLAB \n",
    "\n",
    "Julia possui uma sintaxe muito pr&oacute;xima do MATLAB de tal forma que os nomes da maioria das fun&ccedil;&otilde;es em Julia correspondem aos nomes do MATLAB/Octave. Quanto ao processamento, os par&acirc;metros de refer&ecirc;ncia mostram que Julia &eacute; mais r&aacute;pida, dependendo do tipo de opera&ccedil;&atilde;o. Julia fornece uma interface para a linguagem MATLAB com o pacote MATLAB.jl (https://​github.​com/​lindahua/​MATLAB.​jl). \n",
    "\n",
    "#### Sintaxe\n",
    "<table style=\"height: 49px; float: left;\" width=\"398\">\n",
    "<tbody>\n",
    "<tr><th style=\"text-align: left; vertical-align: top;\"><strong>Julia</strong></th><th style=\"text-align: left; vertical-align: top;\"><strong>Matlab</strong></th></tr>\n",
    "<tr>\n",
    "<td>if condição<br />&nbsp;&nbsp;&nbsp;&nbsp;&nbsp; instru&ccedil;&otilde;es<br />&nbsp;elseif outra_condição<br />&nbsp;&nbsp;&nbsp;&nbsp;&nbsp; instru&ccedil;&otilde;es<br />&nbsp;else<br />&nbsp;&nbsp;&nbsp;&nbsp;&nbsp; outro_bloco_ainda<br />&nbsp;end &nbsp;</td>\n",
    "<td>if condição<br />&nbsp;&nbsp;&nbsp;&nbsp;&nbsp; instru&ccedil;&otilde;es<br />&nbsp;elseif outra_condição<br />&nbsp;&nbsp;&nbsp;&nbsp;&nbsp; instru&ccedil;&otilde;es<br />&nbsp;else<br />&nbsp;&nbsp;&nbsp;&nbsp;&nbsp; outro_bloco_ainda<br />&nbsp;end &nbsp;</td>\n",
    "</tr>\n",
    "<tr>\n",
    "<td>for vari&aacute;vel = vetor\n",
    "<p>&nbsp;&nbsp;&nbsp;&nbsp; instru&ccedil;&otilde;es;<br />&nbsp;end</p>\n",
    "</td>\n",
    "<td>&nbsp;for vari&aacute;vel = vetor\n",
    "<p>&nbsp;&nbsp;&nbsp;&nbsp; instru&ccedil;&otilde;es;<br />&nbsp;end</p>\n",
    "</td>\n",
    "</tr>\n",
    "<tr>\n",
    "<td>while condicao\n",
    "<p>&nbsp;&nbsp;&nbsp;&nbsp; instru&ccedil;&otilde;es;<br />&nbsp;end&nbsp;</p>\n",
    "</td>\n",
    "<td>while condicao\n",
    "<p>&nbsp;&nbsp;&nbsp;&nbsp; instru&ccedil;&otilde;es;<br />&nbsp;end&nbsp;</p>\n",
    "</td>\n",
    "</tr>\n",
    "</tbody>\n",
    "</table>\n",
    "<p>&nbsp;</p>\n",
    "<p>&nbsp;</p>\n",
    "<p>&nbsp;</p>\n",
    "<p>&nbsp;</p>\n",
    "<p>&nbsp;</p>\n",
    "<p>&nbsp;&nbsp;</p>\n",
    "<p>&nbsp;</p>\n",
    "<p>&nbsp;</p>\n",
    "<p>&nbsp;</p>\n",
    "<p>&nbsp;<br />&nbsp;</p>\n",
    "<p>&nbsp;</p>\n",
    "\n",
    "#### Modelo de execu&ccedil;&atilde;o\n",
    "<table style=\"height: 49px; float: left;\" width=\"398\">\n",
    "<tbody>\n",
    "<tr><th style=\"text-align: left; vertical-align: top;\"><strong>Julia</strong></th><th style=\"text-align: left; vertical-align: top;\"><strong>Matlab</strong></th></tr>\n",
    "<tr>\n",
    "<td style=\"text-align: left; vertical-align: top;\">Interpretada</td>\n",
    "<td style=\"text-align: left; vertical-align: top;\">Compilada &nbsp;</td>\n",
    "</tr>\n",
    "</tbody>\n",
    "</table>\n",
    "<p>&nbsp;</p>\n",
    "<p>&nbsp;</p>\n",
    "<p>&nbsp;</p>\n",
    "<p>&nbsp;</p>\n",
    "\n",
    "#### Paradigma principal\n",
    "<table style=\"height: 49px; float: left;\" width=\"398\">\n",
    "<tbody>\n",
    "<tr><th style=\"text-align: left; vertical-align: top;\"><strong>Julia</strong></th><th style=\"text-align: left; vertical-align: top;\"><strong>Matlab</strong></th></tr>\n",
    "<tr>\n",
    "<td style=\"text-align: left; vertical-align: top;\">asdfasdfasdffasdfasdf asdfasfasdf sdf asdf as\n",
    "<p>afdasdfasdfasdfafsd</p>\n",
    "<p>adsASD</p>\n",
    "</td>\n",
    "<td style=\"text-align: left; vertical-align: top;\">asdfa sfasdfasfasdf asdfasdf asdfasdfasdfasdf\n",
    "<p>asdfasdfasdf</p>\n",
    "<p>fasdfasdf</p>\n",
    "</td>\n",
    "</tr>\n",
    "</tbody>\n",
    "</table>\n",
    "<p>&nbsp;</p>\n",
    "<p>&nbsp;</p>\n",
    "<p>&nbsp;</p>\n",
    "<p>&nbsp;</p>\n",
    "<p>&nbsp;</p>\n",
    "<p>&nbsp;</p>\n",
    "\n",
    "#### Modelo de tipo de dados\n",
    "<table style=\"height: 49px; float: left;\" width=\"398\">\n",
    "<tbody>\n",
    "<tr><th style=\"text-align: left; vertical-align: top;\"><strong>Julia</strong></th><th style=\"text-align: left; vertical-align: top;\"><strong>Matlab</strong></th></tr>\n",
    "<tr>\n",
    "<td style=\"text-align: left; vertical-align: top;\">asdfasdfasdffasdfasdf asdfasfasdf sdf asdf as\n",
    "<p>afdasdfasdfasdfafsd</p>\n",
    "<p>adsASD</p>\n",
    "</td>\n",
    "<td style=\"text-align: left; vertical-align: top;\">asdfa sfasdfasfasdf asdfasdf asdfasdfasdfasdf\n",
    "<p>asdfasdfasdf</p>\n",
    "<p>fasdfasdf</p>\n",
    "</td>\n",
    "</tr>\n",
    "</tbody>\n",
    "</table>\n",
    "<p>&nbsp;</p>\n",
    "<p>&nbsp;</p>\n",
    "<p>&nbsp;</p>\n",
    "<p>&nbsp;</p>\n",
    "<p>&nbsp;</p>\n",
    "<p>&nbsp;</p>\n",
    "\n",
    "#### Desempenho\n",
    "<table style=\"height: 49px; float: left;\" width=\"398\">\n",
    "<tbody>\n",
    "<tr><th style=\"text-align: left; vertical-align: top;\"><strong>Julia</strong></th><th style=\"text-align: left; vertical-align: top;\"><strong>Matlab</strong></th></tr>\n",
    "<tr>\n",
    "<td style=\"text-align: left; vertical-align: top;\">asdfasdfasdffasdfasdf asdfasfasdf sdf asdf as\n",
    "<p>afdasdfasdfasdfafsd</p>\n",
    "<p>adsASD</p>\n",
    "</td>\n",
    "<td style=\"text-align: left; vertical-align: top;\">asdfa sfasdfasfasdf asdfasdf asdfasdfasdfasdf\n",
    "<p>asdfasdfasdf</p>\n",
    "<p>fasdfasdf</p>\n",
    "</td>\n",
    "</tr>\n",
    "</tbody>\n",
    "</table>\n",
    "<p>&nbsp;</p>\n",
    "<p>&nbsp;</p>\n",
    "<p>&nbsp;</p>\n",
    "<p>&nbsp;</p>\n",
    "<p>&nbsp;</p>\n",
    "<p>&nbsp;</p>"
   ]
  },
  {
   "cell_type": "markdown",
   "metadata": {},
   "source": [
    "### JULIA X PYTHON\n",
    "\n",
    "Julia tem uma vantagem significativa de desempenhoem relação ao Python. Julia fornece uma interface para a linguagem ao Python com o pacote Py­Call. (https://​github.​com/​stevengj/​PyCall.​jl).\n",
    "\n",
    "#### Sintaxe\n",
    "\n",
    "<table style=\"height: 49px; float: left;\" width=\"398\">\n",
    "<tbody>\n",
    "<tr><th style=\"text-align: left; vertical-align: top;\"><strong>Julia</strong></th><th style=\"text-align: left; vertical-align: top;\">Python</th></tr>\n",
    "<tr>\n",
    "<td>if&nbsp;condi&ccedil;&atilde;o<br />&nbsp;&nbsp;&nbsp;&nbsp;&nbsp; instru&ccedil;&otilde;es<br /><br />&nbsp;elseif outra_condicao<br />&nbsp;&nbsp;&nbsp;&nbsp;&nbsp; instru&ccedil;&otilde;es<br /><br />&nbsp;else<br />&nbsp;&nbsp;&nbsp;&nbsp;&nbsp; outro_bloco_ainda<br />&nbsp;end &nbsp;</td>\n",
    "<td style=\"text-align: left; vertical-align: top;\">if&nbsp;condi&ccedil;&atilde;o:<br />&nbsp;&nbsp;&nbsp;&nbsp;&nbsp; instru&ccedil;&otilde;es<br /><br />elseif outra_condicao:<br />&nbsp;&nbsp;&nbsp;&nbsp;&nbsp; instru&ccedil;&otilde;es<br /><br />&nbsp;else:<br />&nbsp;&nbsp;&nbsp;&nbsp;&nbsp; outro_bloco_ainda<br />&nbsp;&nbsp;</td>\n",
    "</tr>\n",
    "<tr>\n",
    "<td>for vari&aacute;vel = vetor<br /> &nbsp; &nbsp; instru&ccedil;&otilde;es<br /> end</td>\n",
    "<td style=\"text-align: left; vertical-align: top;\">for vari&aacute;vel&nbsp;in sequ&ecirc;ncia/vetor:<br /> &nbsp; &nbsp;instru&ccedil;&otilde;es</td>\n",
    "</tr>\n",
    "<tr>\n",
    "<td>while condicao<br /> &nbsp; &nbsp; instru&ccedil;&otilde;es<br /> end&nbsp;</td>\n",
    "<td style=\"text-align: left; vertical-align: top;\">while condicao:<br /> &nbsp; &nbsp; instru&ccedil;&otilde;es</td>\n",
    "</tr>\n",
    "</tbody>\n",
    "</table>\n",
    "<p>&nbsp;</p>\n",
    "<p>&nbsp;</p>\n",
    "<p>&nbsp;</p>\n",
    "<p>&nbsp;</p>\n",
    "<p>&nbsp;</p>\n",
    "<p>&nbsp;&nbsp;</p>\n",
    "<p>&nbsp;</p>\n",
    "<p>&nbsp;</p>\n",
    "<p>&nbsp;</p>\n",
    "<p>&nbsp;<br />&nbsp;</p>\n",
    "<p>&nbsp;</p>\n",
    "\n",
    "#### Modelo de execução\n",
    "\n",
    "<table style=\"height: 49px; float: left;\" width=\"398\">\n",
    "<tbody>\n",
    "<tr><th style=\"text-align: left; vertical-align: top;\">\n",
    "<strong>Julia</strong>\n",
    "</th><th style=\"text-align: left; vertical-align: top;\">\n",
    "<strong>Python</strong></p>\n",
    "</th></tr>\n",
    "<tr>\n",
    "<td style=\"text-align: left; vertical-align: top;\">\n",
    "Interpretada\n",
    "</td>\n",
    "<td style=\"text-align: left; vertical-align: top;\">\n",
    "Interpretada\n",
    "</td>\n",
    "</tr>\n",
    "</tbody>\n",
    "</table>\n",
    "<p>&nbsp;</p>\n",
    "<p>&nbsp;</p>\n",
    "<p>&nbsp;</p>\n",
    "<p>&nbsp;</p>\n",
    "\n",
    "#### Paradigma principal\n",
    "\n",
    "<table style=\"height: 49px; float: left;\" width=\"398\">\n",
    "<tbody>\n",
    "<tr><th style=\"text-align: left; vertical-align: top;\">\n",
    "<strong>Julia</strong></p>\n",
    "</th><th style=\"text-align: left; vertical-align: top;\">\n",
    "<p><strong>Python</strong></p>\n",
    "</th></tr>\n",
    "<tr>\n",
    "<td style=\"text-align: left; vertical-align: top;\">\n",
    "<p>asdfasdfasdffasdfasdf asdfasfasdf sdf asdf as</p>\n",
    "<p>afdasdfasdfasdfafsd</p>\n",
    "</td>\n",
    "<td style=\"text-align: left; vertical-align: top;\">\n",
    "<p>asdfa sfasdfasfasdf asdfasdf asdfasdfasdfasdf</p>\n",
    "<p>asdfasdfasdf</p>\n",
    "</td>\n",
    "</tr>\n",
    "</tbody>\n",
    "</table>\n",
    "<p>&nbsp;</p>\n",
    "<p>&nbsp;</p>\n",
    "<p>&nbsp;</p>\n",
    "<p>&nbsp;</p>\n",
    "<p>&nbsp;</p>\n",
    "<p>&nbsp;</p>\n",
    "\n",
    "\n",
    "*** Modelo de tipo de dados***\n",
    "\n",
    "<table style=\"height: 49px; float: left;\" width=\"398\">\n",
    "<tbody>\n",
    "<tr><th style=\"text-align: left; vertical-align: top;\">\n",
    "<strong>Julia</strong></p>\n",
    "</th><th style=\"text-align: left; vertical-align: top;\">\n",
    "<p><strong>Python</strong></p>\n",
    "</th></tr>\n",
    "<tr>\n",
    "<td style=\"text-align: left; vertical-align: top;\">\n",
    "<p>asdfasdfasdffasdfasdf asdfasfasdf sdf asdf as</p>\n",
    "<p>afdasdfasdfasdfafsd</p>\n",
    "</td>\n",
    "<td style=\"text-align: left; vertical-align: top;\">\n",
    "<p>asdfa sfasdfasfasdf asdfasdf asdfasdfasdfasdf</p>\n",
    "<p>asdfasdfasdf</p>\n",
    "</td>\n",
    "</tr>\n",
    "</tbody>\n",
    "</table>\n",
    "<p>&nbsp;</p>\n",
    "<p>&nbsp;</p>\n",
    "<p>&nbsp;</p>\n",
    "<p>&nbsp;</p>\n",
    "<p>&nbsp;</p>\n",
    "<p>&nbsp;</p>\n",
    "\n",
    "\n",
    "#### Desempenho\n",
    "\n",
    "<table style=\"height: 49px; float: left;\" width=\"398\">\n",
    "<tbody>\n",
    "<tr><th style=\"text-align: left; vertical-align: top;\">\n",
    "<strong>Julia</strong></p>\n",
    "</th><th style=\"text-align: left; vertical-align: top;\">\n",
    "<p><strong>Python</strong></p>\n",
    "</th></tr>\n",
    "<tr>\n",
    "<td style=\"text-align: left; vertical-align: top;\">\n",
    "<p>asdfasdfasdffasdfasdf asdfasfasdf sdf asdf as</p>\n",
    "<p>afdasdfasdfasdfafsd</p>\n",
    "</td>\n",
    "<td style=\"text-align: left; vertical-align: top;\">\n",
    "<p>asdfa sfasdfasfasdf asdfasdf asdfasdfasdfasdf</p>\n",
    "<p>asdfasdfasdf</p>\n",
    "</td>\n",
    "</tr>\n",
    "</tbody>\n",
    "</table>\n",
    "<p>&nbsp;</p>\n",
    "<p>&nbsp;</p>\n",
    "<p>&nbsp;</p>\n",
    "<p>&nbsp;</p>\n",
    "<p>&nbsp;</p>\n",
    "<p>&nbsp;</p>\n"
   ]
  },
  {
   "cell_type": "markdown",
   "metadata": {},
   "source": [
    "### JULIA X R\n",
    "\n",
    "R é uma das linguagem de desenvolvimento preferido para a maioria dos estatísticos. Julia revela-se bem superior em desempenho e tem um conjunto de tipo muito mais rico os tipos baseados em vetores de R. Julia fornece uma interface para a linguagem R com o pacote de Rif.jl (https://​github.​com/​lgautier/​Rif.​jl).\n",
    "\n",
    "#### Sintaxe\n",
    "\n",
    "<table style=\"height: 286px; float: left;\" width=\"443\">\n",
    "<tbody>\n",
    "<tr><th style=\"text-align: left; vertical-align: top;\"><strong>Julia</strong></th><th style=\"text-align: left; vertical-align: top;\">R</th></tr>\n",
    "<tr>\n",
    "<td style=\"text-align: left; vertical-align: top;\">if&nbsp;condi&ccedil;&atilde;o<br />&nbsp;&nbsp;&nbsp;&nbsp;&nbsp; instru&ccedil;&otilde;es<br /><br />&nbsp;elseif outra_condicao<br />&nbsp;&nbsp;&nbsp;&nbsp;&nbsp; instru&ccedil;&otilde;es<br /><br />&nbsp;else<br />&nbsp;&nbsp;&nbsp;&nbsp;&nbsp; outro_bloco_ainda<br />&nbsp;end &nbsp;</td>\n",
    "<td style=\"text-align: left; vertical-align: top;\">if (condi&ccedil;&atilde;o) {\n",
    "<p>&nbsp; &nbsp; execu&ccedil;&atilde;o_principal</p>\n",
    "<p>} else {</p>\n",
    "<p>&nbsp; &nbsp; execu&ccedil;&atilde;o_alternativa</p>\n",
    "<p>}&nbsp;</p>\n",
    "</td>\n",
    "</tr>\n",
    "<tr>\n",
    "<td style=\"text-align: left; vertical-align: top;\">for vari&aacute;vel = vetor<br /> &nbsp; &nbsp; instru&ccedil;&otilde;es<br /> end</td>\n",
    "<td style=\"text-align: left; vertical-align: top;\">for (variavel in sequencia/vetor) {\n",
    "<p>&nbsp; &nbsp; &nbsp;instrucoes</p>\n",
    "<p>}</p>\n",
    "</td>\n",
    "</tr>\n",
    "<tr>\n",
    "<td style=\"text-align: left; vertical-align: top;\">while condicao<br /> &nbsp; &nbsp; instru&ccedil;&otilde;es<br /> end &nbsp; &nbsp; &nbsp; &nbsp; &nbsp; &nbsp; &nbsp; &nbsp; &nbsp; &nbsp; &nbsp; &nbsp; &nbsp; &nbsp; &nbsp; &nbsp; &nbsp; &nbsp; &nbsp; &nbsp; &nbsp; &nbsp;&nbsp;</td>\n",
    "<td style=\"text-align: left; vertical-align: top;\">while (condi&ccedil;&atilde;o){\n",
    "<p>&nbsp; &nbsp; instrucoes</p>\n",
    "<p>}</p>\n",
    "</td>\n",
    "</tr>\n",
    "</tbody>\n",
    "</table>\n",
    "<p>&nbsp;</p>\n",
    "<p>&nbsp;</p>\n",
    "<p>&nbsp;</p>\n",
    "<p>&nbsp;</p>\n",
    "<p>&nbsp;</p>\n",
    "<p>&nbsp;</p>\n",
    "<p>&nbsp;</p>\n",
    "<p>&nbsp;</p>\n",
    "<p>&nbsp;</p>\n",
    "<p>&nbsp;</p>\n",
    "<p>&nbsp;</p>\n",
    "<p>&nbsp;</p>\n",
    "<p>&nbsp;</p>\n",
    "<p></p>\n",
    "\n",
    "#### Modelo de execução\n",
    "\n",
    "<table style=\"height: 49px; float: left;\" width=\"398\">\n",
    "<tbody>\n",
    "<tr><th style=\"text-align: left; vertical-align: top;\">\n",
    "<strong>Julia</strong>\n",
    "</th><th style=\"text-align: left; vertical-align: top;\">\n",
    "<strong>R</strong>\n",
    "</th></tr>\n",
    "<tr>\n",
    "<td style=\"text-align: left; vertical-align: top;\">\n",
    "Interpreda\n",
    "</td>\n",
    "<td style=\"text-align: left; vertical-align: top;\">\n",
    "Interpretada\n",
    "</td>\n",
    "</tr>\n",
    "</tbody>\n",
    "</table>\n",
    "<p>&nbsp;</p>\n",
    "<p>&nbsp;</p>\n",
    "<p>&nbsp;</p>\n",
    "<p>&nbsp;</p>\n",
    "\n",
    "#### Paradigma principal\n",
    "\n",
    "<table style=\"height: 49px; float: left;\" width=\"398\">\n",
    "<tbody>\n",
    "<tr><th style=\"text-align: left; vertical-align: top;\">\n",
    "<strong>Julia</strong></p>\n",
    "</th><th style=\"text-align: left; vertical-align: top;\">\n",
    "<p><strong>R</strong></p>\n",
    "</th></tr>\n",
    "<tr>\n",
    "<td style=\"text-align: left; vertical-align: top;\">\n",
    "<p>asdfasdfasdffasdfasdf asdfasfasdf sdf asdf as</p>\n",
    "<p>afdasdfasdfasdfafsd</p>\n",
    "</td>\n",
    "<td style=\"text-align: left; vertical-align: top;\">\n",
    "<p>asdfa sfasdfasfasdf asdfasdf asdfasdfasdfasdf</p>\n",
    "<p>asdfasdfasdf</p>\n",
    "</td>\n",
    "</tr>\n",
    "</tbody>\n",
    "</table>\n",
    "<p>&nbsp;</p>\n",
    "<p>&nbsp;</p>\n",
    "<p>&nbsp;</p>\n",
    "<p>&nbsp;</p>\n",
    "<p>&nbsp;</p>\n",
    "<p>&nbsp;</p>\n",
    "\n",
    "#### Modelo de tipo de dados\n",
    "\n",
    "<table style=\"height: 49px; float: left;\" width=\"398\">\n",
    "<tbody>\n",
    "<tr><th style=\"text-align: left; vertical-align: top;\">\n",
    "<strong>Julia</strong></p>\n",
    "</th><th style=\"text-align: left; vertical-align: top;\">\n",
    "<p><strong>R</strong></p>\n",
    "</th></tr>\n",
    "<tr>\n",
    "<td style=\"text-align: left; vertical-align: top;\">\n",
    "<p>asdfasdfasdffasdfasdf asdfasfasdf sdf asdf as</p>\n",
    "<p>afdasdfasdfasdfafsd</p>\n",
    "</td>\n",
    "<td style=\"text-align: left; vertical-align: top;\">\n",
    "<p>asdfa sfasdfasfasdf asdfasdf asdfasdfasdfasdf</p>\n",
    "<p>asdfasdfasdf</p>\n",
    "</td>\n",
    "</tr>\n",
    "</tbody>\n",
    "</table>\n",
    "<p>&nbsp;</p>\n",
    "<p>&nbsp;</p>\n",
    "<p>&nbsp;</p>\n",
    "<p>&nbsp;</p>\n",
    "<p>&nbsp;</p>\n",
    "<p>&nbsp;</p>\n",
    "\n",
    "#### Desempenho\n",
    "\n",
    "<table style=\"height: 49px; float: left;\" width=\"398\">\n",
    "<tbody>\n",
    "<tr><th style=\"text-align: left; vertical-align: top;\">\n",
    "<strong>Julia</strong></p>\n",
    "</th><th style=\"text-align: left; vertical-align: top;\">\n",
    "<p><strong>R</strong></p>\n",
    "</th></tr>\n",
    "<tr>\n",
    "<td style=\"text-align: left; vertical-align: top;\">\n",
    "<p>asdfasdfasdffasdfasdf asdfasfasdf sdf asdf as</p>\n",
    "<p>afdasdfasdfasdfafsd</p>\n",
    "</td>\n",
    "<td style=\"text-align: left; vertical-align: top;\">\n",
    "<p>asdfa sfasdfasfasdf asdfasdf asdfasdfasdfasdf</p>\n",
    "<p>asdfasdfasdf</p>\n",
    "</td>\n",
    "</tr>\n",
    "</tbody>\n",
    "</table>\n",
    "<p>&nbsp;</p>\n",
    "<p>&nbsp;</p>\n",
    "<p>&nbsp;</p>\n",
    "<p>&nbsp;</p>\n",
    "<p>&nbsp;</p>\n",
    "<p>&nbsp;</p>"
   ]
  },
  {
   "cell_type": "markdown",
   "metadata": {},
   "source": [
    "### JULIA X FORTRAN\n",
    "\n",
    "#### Sintaxe\n",
    "\n",
    "<table style=\"height: 286px; float: left;\" width=\"443\">\n",
    "<tbody>\n",
    "<tr><th style=\"text-align: left; vertical-align: top;\"><strong>Julia</strong></th><th style=\"text-align: left; vertical-align: top;\">FORTRAN</th></tr>\n",
    "<tr>\n",
    "<td style=\"text-align: left; vertical-align: top;\">if&nbsp;condi&ccedil;&atilde;o<br />&nbsp;&nbsp;&nbsp;&nbsp;&nbsp; instru&ccedil;&otilde;es<br /><br />&nbsp;elseif outra_condicao<br />&nbsp;&nbsp;&nbsp;&nbsp;&nbsp; instru&ccedil;&otilde;es<br /><br />&nbsp;else<br />&nbsp;&nbsp;&nbsp;&nbsp;&nbsp; outro_bloco_ainda<br />&nbsp;end &nbsp;</td>\n",
    "<td style=\"text-align: left; vertical-align: top;\">if (condi&ccedil;&atilde;o) then<br />&nbsp; &nbsp; &nbsp; instru&ccedil;&otilde;es <br /><br />else<br />&nbsp; &nbsp; &nbsp; instru&ccedil;&otilde;es <br /><br />end if</td>\n",
    "</tr>\n",
    "<tr>\n",
    "<td style=\"text-align: left; vertical-align: top;\">for vari&aacute;vel = vetor<br /> &nbsp; &nbsp; instru&ccedil;&otilde;es<br /><br /> end</td>\n",
    "<td style=\"text-align: left; vertical-align: top;\">Do , numero_loops<br />&nbsp; instrucoes\n",
    "<br />End Do\n",
    "</td>\n",
    "</tr>\n",
    "<tr>\n",
    "<td style=\"text-align: left; vertical-align: top;\">while condicao<br /> &nbsp; &nbsp; instru&ccedil;&otilde;es<br /> end &nbsp; &nbsp; &nbsp; &nbsp; &nbsp; &nbsp; &nbsp; &nbsp; &nbsp; &nbsp; &nbsp; &nbsp; &nbsp; &nbsp; &nbsp; &nbsp; &nbsp; &nbsp; &nbsp; &nbsp; &nbsp; &nbsp;&nbsp;</td>\n",
    "<td style=\"text-align: left; vertical-align: top;\">do while(exp. teste)<br />&nbsp; &nbsp; seq&uuml;&ecirc;ncia de comandos<br />end do</td>\n",
    "</tr>\n",
    "</tbody>\n",
    "</table>\n",
    "<p>&nbsp;</p>\n",
    "<p>&nbsp;</p>\n",
    "<p>&nbsp;</p>\n",
    "<p>&nbsp;</p>\n",
    "<p>&nbsp;</p>\n",
    "<p>&nbsp;</p>\n",
    "<p>&nbsp;</p>\n",
    "<p>&nbsp;</p>\n",
    "<p>&nbsp;</p>\n",
    "<p>&nbsp;</p>\n",
    "<p>&nbsp;</p>\n",
    "<p>&nbsp;</p>\n",
    "<p>&nbsp;</p>\n",
    "\n",
    "#### Modelo de execução\n",
    "\n",
    "<table style=\"height: 49px; float: left;\" width=\"398\">\n",
    "<tbody>\n",
    "<tr><th style=\"text-align: left; vertical-align: top;\">\n",
    "<strong>Julia</strong></p>\n",
    "</th><th style=\"text-align: left; vertical-align: top;\">\n",
    "<p><strong>Fortran</strong></p>\n",
    "</th></tr>\n",
    "<tr>\n",
    "<td style=\"text-align: left; vertical-align: top;\">\n",
    "Interpretada\n",
    "</td>\n",
    "<td style=\"text-align: left; vertical-align: top;\">\n",
    "Compilada\n",
    "</td>\n",
    "</tr>\n",
    "</tbody>\n",
    "</table>\n",
    "<p>&nbsp;</p>\n",
    "<p>&nbsp;</p>\n",
    "<p>&nbsp;</p>\n",
    "<p>&nbsp;</p>\n",
    "\n",
    "\n",
    "#### Paradigma principal\n",
    "\n",
    "<table style=\"height: 49px; float: left;\" width=\"398\">\n",
    "<tbody>\n",
    "<tr><th style=\"text-align: left; vertical-align: top;\">\n",
    "<strong>Julia</strong></p>\n",
    "</th><th style=\"text-align: left; vertical-align: top;\">\n",
    "<p><strong>Fortran</strong></p>\n",
    "</th></tr>\n",
    "<tr>\n",
    "<td style=\"text-align: left; vertical-align: top;\">\n",
    "<p>asdfasdfasdffasdfasdf asdfasfasdf sdf asdf as</p>\n",
    "<p>afdasdfasdfasdfafsd</p>\n",
    "</td>\n",
    "<td style=\"text-align: left; vertical-align: top;\">\n",
    "<p>asdfa sfasdfasfasdf asdfasdf asdfasdfasdfasdf</p>\n",
    "<p>asdfasdfasdf</p>\n",
    "</td>\n",
    "</tr>\n",
    "</tbody>\n",
    "</table>\n",
    "<p>&nbsp;</p>\n",
    "<p>&nbsp;</p>\n",
    "<p>&nbsp;</p>\n",
    "<p>&nbsp;</p>\n",
    "<p>&nbsp;</p>\n",
    "<p>&nbsp;</p>\n",
    "\n",
    "\n",
    "#### Modelo de tipo de dados\n",
    "\n",
    "<table style=\"height: 49px; float: left;\" width=\"398\">\n",
    "<tbody>\n",
    "<tr><th style=\"text-align: left; vertical-align: top;\">\n",
    "<strong>Julia</strong></p>\n",
    "</th><th style=\"text-align: left; vertical-align: top;\">\n",
    "<p><strong>Fortran</strong></p>\n",
    "</th></tr>\n",
    "<tr>\n",
    "<td style=\"text-align: left; vertical-align: top;\">\n",
    "<p>asdfasdfasdffasdfasdf asdfasfasdf sdf asdf as</p>\n",
    "<p>afdasdfasdfasdfafsd</p>\n",
    "</td>\n",
    "<td style=\"text-align: left; vertical-align: top;\">\n",
    "<p>asdfa sfasdfasfasdf asdfasdf asdfasdfasdfasdf</p>\n",
    "<p>asdfasdfasdf</p>\n",
    "</td>\n",
    "</tr>\n",
    "</tbody>\n",
    "</table>\n",
    "<p>&nbsp;</p>\n",
    "<p>&nbsp;</p>\n",
    "<p>&nbsp;</p>\n",
    "<p>&nbsp;</p>\n",
    "<p>&nbsp;</p>\n",
    "<p>&nbsp;</p>\n",
    "\n",
    "\n",
    "#### Desempenho\n",
    "\n",
    "<table style=\"height: 49px; float: left;\" width=\"398\">\n",
    "<tbody>\n",
    "<tr><th style=\"text-align: left; vertical-align: top;\">\n",
    "<strong>Julia</strong></p>\n",
    "</th><th style=\"text-align: left; vertical-align: top;\">\n",
    "<p><strong>Fortran</strong></p>\n",
    "</th></tr>\n",
    "<tr>\n",
    "<td style=\"text-align: left; vertical-align: top;\">\n",
    "<p>asdfasdfasdffasdfasdf asdfasfasdf sdf asdf as</p>\n",
    "<p>afdasdfasdfasdfafsd</p>\n",
    "</td>\n",
    "<td style=\"text-align: left; vertical-align: top;\">\n",
    "<p>asdfa sfasdfasfasdf asdfasdf asdfasdfasdfasdf</p>\n",
    "<p>asdfasdfasdf</p>\n",
    "</td>\n",
    "</tr>\n",
    "</tbody>\n",
    "</table>\n",
    "<p>&nbsp;</p>\n",
    "<p>&nbsp;</p>\n",
    "<p>&nbsp;</p>\n",
    "<p>&nbsp;</p>\n",
    "<p>&nbsp;</p>\n",
    "<p>&nbsp;</p>\n"
   ]
  },
  {
   "cell_type": "markdown",
   "metadata": {},
   "source": [
    "### JULIA X C\n",
    "\n",
    "Aqui as coisas complicam! C é sem dúvida a mais rápida, em função da sua compilação pura. Porém, em alguns testes, julia se mostra igual e até superior em função da ótima manipulação matricial. Mas o grande diferencial é o ganho de produtividade: em C perde-se mais tempo corrigindo o código do que de fato produzindo - o.  \n",
    "\n",
    "#### Sintaxe\n",
    "\n",
    "<table style=\"height: 274px; float: left;\" width=\"471\">\n",
    "<tbody>\n",
    "<tr><th style=\"text-align: left; vertical-align: top;\"><strong>Julia</strong></th><th style=\"text-align: left; vertical-align: top;\">FORTRAN</th></tr>\n",
    "<tr>\n",
    "<td style=\"text-align: left; vertical-align: top;\">if&nbsp;condi&ccedil;&atilde;o<br />&nbsp;&nbsp;&nbsp;&nbsp;&nbsp; instru&ccedil;&otilde;es<br /><br />&nbsp;elseif outra_condicao<br />&nbsp;&nbsp;&nbsp;&nbsp;&nbsp; instru&ccedil;&otilde;es<br /><br />&nbsp;else<br />&nbsp;&nbsp;&nbsp;&nbsp;&nbsp; outro_bloco_ainda<br />&nbsp;end &nbsp;</td>\n",
    "<td style=\"text-align: left; vertical-align: top;\">if (condicao) {<br />&nbsp; &nbsp; instrucoes;<br />&nbsp; }<br />&nbsp; else if (condicao) {<br />&nbsp; &nbsp; &nbsp; instrucoes;<br />&nbsp; }<br />&nbsp; else {<br />&nbsp; &nbsp; &nbsp;instrucoes<br />&nbsp; }<br /> <br /> }</td>\n",
    "</tr>\n",
    "<tr>\n",
    "<td style=\"text-align: left; vertical-align: top;\">for vari&aacute;vel = vetor<br /> &nbsp; &nbsp; instru&ccedil;&otilde;es<br /><br /> end</td>\n",
    "<td style=\"text-align: left; vertical-align: top;\">for (inicializa&ccedil;&atilde;o; condi&ccedil;&atilde;o; incremento) {<br /> instru&ccedil;&otilde;es;<br /> }</td>\n",
    "</tr>\n",
    "<tr>\n",
    "<td style=\"text-align: left; vertical-align: top;\">while condicao<br /> &nbsp; &nbsp; instru&ccedil;&otilde;es<br /> end &nbsp; &nbsp; &nbsp; &nbsp; &nbsp; &nbsp; &nbsp; &nbsp; &nbsp; &nbsp; &nbsp; &nbsp; &nbsp; &nbsp; &nbsp; &nbsp; &nbsp;</td>\n",
    "<td style=\"text-align: left; vertical-align: top;\">while (condi&ccedil;&atilde;o) {<br />&nbsp; &nbsp; &nbsp;instrucoes<br /> }</td>\n",
    "</tr>\n",
    "</tbody>\n",
    "</table>\n",
    "<p>&nbsp;</p>\n",
    "<p>&nbsp;</p>\n",
    "<p>&nbsp;</p>\n",
    "<p>&nbsp;</p>\n",
    "<p>&nbsp;</p>\n",
    "<p>&nbsp;</p>\n",
    "<p>&nbsp;</p>\n",
    "<p>&nbsp;</p>\n",
    "<p>&nbsp;</p>\n",
    "<p>&nbsp;</p>\n",
    "<p>&nbsp;</p>\n",
    "<p>&nbsp;</p>\n",
    "<p>&nbsp;</p>\n",
    "<p>&nbsp;</p>\n",
    "\n",
    "#### Modelo de execução\n",
    "\n",
    "<table style=\"height: 49px; float: left;\" width=\"398\">\n",
    "<tbody>\n",
    "<tr><th style=\"text-align: left; vertical-align: top;\">\n",
    "<strong>Julia</strong>\n",
    "</th><th style=\"text-align: left; vertical-align: top;\">\n",
    "<strong>C</strong>\n",
    "</th></tr>\n",
    "<tr>\n",
    "<td style=\"text-align: left; vertical-align: top;\">\n",
    "Interpretada\n",
    "</td>\n",
    "<td style=\"text-align: left; vertical-align: top;\">\n",
    "Compilada\n",
    "</td>\n",
    "</tr>\n",
    "</tbody>\n",
    "</table>\n",
    "<p>&nbsp;</p>\n",
    "<p>&nbsp;</p>\n",
    "<p>&nbsp;</p>\n",
    "<p>&nbsp;</p>\n",
    "\n",
    "#### Paradigma principal\n",
    "\n",
    "<table style=\"height: 49px; float: left;\" width=\"398\">\n",
    "<tbody>\n",
    "<tr><th style=\"text-align: left; vertical-align: top;\">\n",
    "<strong>Julia</strong></p>\n",
    "</th><th style=\"text-align: left; vertical-align: top;\">\n",
    "<p><strong>C</strong></p>\n",
    "</th></tr>\n",
    "<tr>\n",
    "<td style=\"text-align: left; vertical-align: top;\">\n",
    "<p>asdfasdfasdffasdfasdf asdfasfasdf sdf asdf as</p>\n",
    "<p>afdasdfasdfasdfafsd</p>\n",
    "</td>\n",
    "<td style=\"text-align: left; vertical-align: top;\">\n",
    "<p>asdfa sfasdfasfasdf asdfasdf asdfasdfasdfasdf</p>\n",
    "<p>asdfasdfasdf</p>\n",
    "</td>\n",
    "</tr>\n",
    "</tbody>\n",
    "</table>\n",
    "<p>&nbsp;</p>\n",
    "<p>&nbsp;</p>\n",
    "<p>&nbsp;</p>\n",
    "<p>&nbsp;</p>\n",
    "<p>&nbsp;</p>\n",
    "<p>&nbsp;</p>\n",
    "\n",
    "#### Modelo de tipo de dados\n",
    "\n",
    "<table style=\"height: 49px; float: left;\" width=\"398\">\n",
    "<tbody>\n",
    "<tr><th style=\"text-align: left; vertical-align: top;\">\n",
    "<strong>Julia</strong></p>\n",
    "</th><th style=\"text-align: left; vertical-align: top;\">\n",
    "<p><strong>C</strong></p>\n",
    "</th></tr>\n",
    "<tr>\n",
    "<td style=\"text-align: left; vertical-align: top;\">\n",
    "<p>asdfasdfasdffasdfasdf asdfasfasdf sdf asdf as</p>\n",
    "<p>afdasdfasdfasdfafsd</p>\n",
    "</td>\n",
    "<td style=\"text-align: left; vertical-align: top;\">\n",
    "<p>asdfa sfasdfasfasdf asdfasdf asdfasdfasdfasdf</p>\n",
    "<p>asdfasdfasdf</p>\n",
    "</td>\n",
    "</tr>\n",
    "</tbody>\n",
    "</table>\n",
    "<p>&nbsp;</p>\n",
    "<p>&nbsp;</p>\n",
    "<p>&nbsp;</p>\n",
    "<p>&nbsp;</p>\n",
    "<p>&nbsp;</p>\n",
    "<p>&nbsp;</p>\n",
    "\n",
    "#### Desempenho\n",
    "\n",
    "<table style=\"height: 49px; float: left;\" width=\"398\">\n",
    "<tbody>\n",
    "<tr><th style=\"text-align: left; vertical-align: top;\">\n",
    "<strong>Julia</strong></p>\n",
    "</th><th style=\"text-align: left; vertical-align: top;\">\n",
    "<p><strong>C</strong></p>\n",
    "</th></tr>\n",
    "<tr>\n",
    "<td style=\"text-align: left; vertical-align: top;\">\n",
    "<p>asdfasdfasdffasdfasdf asdfasfasdf sdf asdf as</p>\n",
    "<p>afdasdfasdfasdfafsd</p>\n",
    "</td>\n",
    "<td style=\"text-align: left; vertical-align: top;\">\n",
    "<p>asdfa sfasdfasfasdf asdfasdf asdfasdfasdfasdf</p>\n",
    "<p>asdfasdfasdf</p>\n",
    "</td>\n",
    "</tr>\n",
    "</tbody>\n",
    "</table>\n",
    "<p>&nbsp;</p>\n",
    "<p>&nbsp;</p>\n",
    "<p>&nbsp;</p>\n",
    "<p>&nbsp;</p>\n",
    "<p>&nbsp;</p>\n",
    "<p>&nbsp;</p>"
   ]
  },
  {
   "cell_type": "markdown",
   "metadata": {},
   "source": [
    "http://blog.tiagopassos.com/wp-content/uploads/2011/06/as_diferencas_entre_as_linguagens_de_programacao_.jpg"
   ]
  },
  {
   "cell_type": "markdown",
   "metadata": {
    "collapsed": false,
    "raw_mimetype": "text/latex"
   },
   "source": [
    "### COMANDOS BÁSICOS E MATEMÁTICA BÁSICA\n"
   ]
  },
  {
   "cell_type": "code",
   "execution_count": 2,
   "metadata": {
    "collapsed": false
   },
   "outputs": [
    {
     "name": "stdout",
     "output_type": "stream",
     "text": [
      "Julia Version 0.4.5\n",
      "Commit 2ac304d (2016-03-18 00:58 UTC)\n",
      "Platform Info:\n",
      "  System: Linux (x86_64-unknown-linux-gnu)\n",
      "  CPU: Intel(R) Xeon(R) CPU E5-2670 v2 @ 2.50GHz\n",
      "  WORD_SIZE: 64\n",
      "  BLAS: libopenblas (USE64BITINT DYNAMIC_ARCH NO_AFFINITY Sandybridge)\n",
      "  LAPACK: libopenblas64_\n",
      "  LIBM: libopenlibm\n",
      "  LLVM: libLLVM-3.3\n"
     ]
    }
   ],
   "source": [
    "versioninfo()"
   ]
  },
  {
   "cell_type": "code",
   "execution_count": 3,
   "metadata": {
    "collapsed": false,
    "scrolled": true
   },
   "outputs": [
    {
     "data": {
      "text/plain": [
       "7"
      ]
     },
     "execution_count": 3,
     "metadata": {},
     "output_type": "execute_result"
    }
   ],
   "source": [
    "2+5"
   ]
  },
  {
   "cell_type": "code",
   "execution_count": 4,
   "metadata": {
    "collapsed": false
   },
   "outputs": [
    {
     "data": {
      "text/plain": [
       "0.1"
      ]
     },
     "execution_count": 4,
     "metadata": {},
     "output_type": "execute_result"
    }
   ],
   "source": [
    "10e-2"
   ]
  },
  {
   "cell_type": "code",
   "execution_count": 5,
   "metadata": {
    "collapsed": false
   },
   "outputs": [
    {
     "data": {
      "text/plain": [
       "20.085536923187668"
      ]
     },
     "execution_count": 5,
     "metadata": {},
     "output_type": "execute_result"
    }
   ],
   "source": [
    "# e^3\n",
    "\n",
    "exp(3)"
   ]
  },
  {
   "cell_type": "code",
   "execution_count": 6,
   "metadata": {
    "collapsed": false
   },
   "outputs": [
    {
     "data": {
      "text/plain": [
       "64"
      ]
     },
     "execution_count": 6,
     "metadata": {},
     "output_type": "execute_result"
    }
   ],
   "source": [
    "2^6"
   ]
  },
  {
   "cell_type": "code",
   "execution_count": 7,
   "metadata": {
    "collapsed": false
   },
   "outputs": [
    {
     "data": {
      "text/plain": [
       "0.765625"
      ]
     },
     "execution_count": 7,
     "metadata": {},
     "output_type": "execute_result"
    }
   ],
   "source": [
    "(2+5)^2/(3+1)^3"
   ]
  },
  {
   "cell_type": "code",
   "execution_count": 8,
   "metadata": {
    "collapsed": false,
    "scrolled": true
   },
   "outputs": [
    {
     "data": {
      "text/plain": [
       "1.0"
      ]
     },
     "execution_count": 8,
     "metadata": {},
     "output_type": "execute_result"
    }
   ],
   "source": [
    "sin(pi/2)"
   ]
  },
  {
   "cell_type": "code",
   "execution_count": 9,
   "metadata": {
    "collapsed": false,
    "scrolled": true
   },
   "outputs": [
    {
     "data": {
      "text/plain": [
       "0.2632755453481439"
      ]
     },
     "execution_count": 9,
     "metadata": {},
     "output_type": "execute_result"
    }
   ],
   "source": [
    "# número aleatório entre 0 e 1\n",
    "\n",
    "rand()"
   ]
  },
  {
   "cell_type": "code",
   "execution_count": 10,
   "metadata": {
    "collapsed": false
   },
   "outputs": [
    {
     "data": {
      "text/plain": [
       "6-element Array{Int64,1}:\n",
       " 2\n",
       " 3\n",
       " 6\n",
       " 3\n",
       " 9\n",
       " 9"
      ]
     },
     "execution_count": 10,
     "metadata": {},
     "output_type": "execute_result"
    }
   ],
   "source": [
    "# 6 numeros aleatorios de 0 a 10\n",
    "\n",
    "rand(0:10, 6)"
   ]
  },
  {
   "cell_type": "code",
   "execution_count": 11,
   "metadata": {
    "collapsed": false
   },
   "outputs": [
    {
     "data": {
      "text/plain": [
       "([41,46,45,45,57,21],[1,1,8,1,48,5],[31,17,31,5,7,15])"
      ]
     },
     "execution_count": 11,
     "metadata": {},
     "output_type": "execute_result"
    }
   ],
   "source": [
    "# jogos da mega sena. Claro que não é lá essas coisas né\n",
    "\n",
    "rand(1:60,6), rand(1:60,6),rand(1:60,6)"
   ]
  },
  {
   "cell_type": "code",
   "execution_count": 12,
   "metadata": {
    "collapsed": false
   },
   "outputs": [
    {
     "data": {
      "text/plain": [
       "7"
      ]
     },
     "execution_count": 12,
     "metadata": {},
     "output_type": "execute_result"
    }
   ],
   "source": [
    "# MDC\n",
    "\n",
    "gcd(7,14)"
   ]
  },
  {
   "cell_type": "code",
   "execution_count": 13,
   "metadata": {
    "collapsed": false
   },
   "outputs": [
    {
     "data": {
      "text/plain": [
       "14"
      ]
     },
     "execution_count": 13,
     "metadata": {},
     "output_type": "execute_result"
    }
   ],
   "source": [
    "# MMC\n",
    "\n",
    "lcm(7,14)"
   ]
  },
  {
   "cell_type": "markdown",
   "metadata": {},
   "source": [
    "<strong>Multiplos calculos</strong>\n",
    "\n",
    "O uso a vírgula \" , \" permite efetuar mais de uma expressão"
   ]
  },
  {
   "cell_type": "code",
   "execution_count": 14,
   "metadata": {
    "collapsed": false
   },
   "outputs": [
    {
     "data": {
      "text/plain": [
       "(1.4142135623730951,0.2222222222222222)"
      ]
     },
     "execution_count": 14,
     "metadata": {},
     "output_type": "execute_result"
    }
   ],
   "source": [
    "sqrt(2) , 2.0*3.0^-2"
   ]
  },
  {
   "cell_type": "code",
   "execution_count": 15,
   "metadata": {
    "collapsed": false
   },
   "outputs": [
    {
     "data": {
      "text/plain": [
       "0.2222222222222222"
      ]
     },
     "execution_count": 15,
     "metadata": {},
     "output_type": "execute_result"
    }
   ],
   "source": [
    "# se usado o ponto e virgula, só será impresso a ultimo cálculo\n",
    "\n",
    "sqrt(2) ; 2.0*3.0^-2"
   ]
  },
  {
   "cell_type": "markdown",
   "metadata": {},
   "source": [
    "<strong> Cálculo trigonometrico/Hiperbólico </strong>\n",
    "\n",
    "sin(x)    cos(x)    tan(x)    cot(x)    sec(x)    csc(x)  sinh(x)   cosh(x)   tanh(x)   coth(x)   sech(x)   csch(x)\n",
    "\n",
    "\n",
    "asin(x)   acos(x)   atan(x)   acot(x)   asec(x)   acsc(x)  acoth(x)  asech(x)  acsch(x)  sinc(x)   cosc(x)   atan2(x)"
   ]
  },
  {
   "cell_type": "code",
   "execution_count": 16,
   "metadata": {
    "collapsed": false,
    "scrolled": true
   },
   "outputs": [
    {
     "data": {
      "text/plain": [
       "(0.7071067811865475,-1.0,0.9999999999999999)"
      ]
     },
     "execution_count": 16,
     "metadata": {},
     "output_type": "execute_result"
    }
   ],
   "source": [
    "# radiandos\n",
    "\n",
    "sin(pi/4) , cos(pi) , tan(pi/4)"
   ]
  },
  {
   "cell_type": "code",
   "execution_count": 17,
   "metadata": {
    "collapsed": false
   },
   "outputs": [
    {
     "data": {
      "text/plain": [
       "(1.5248686188220641,1.4142135623730951,1.414213562373095)"
      ]
     },
     "execution_count": 17,
     "metadata": {},
     "output_type": "execute_result"
    }
   ],
   "source": [
    "coth(pi/4), csc(pi/4) , sec(pi/4)"
   ]
  },
  {
   "cell_type": "code",
   "execution_count": 18,
   "metadata": {
    "collapsed": false,
    "scrolled": true
   },
   "outputs": [
    {
     "data": {
      "text/plain": [
       "(1.0,0.0)"
      ]
     },
     "execution_count": 18,
     "metadata": {},
     "output_type": "execute_result"
    }
   ],
   "source": [
    "# Para o angulo em grau (º), acrescenta-se o \"d\"\n",
    "\n",
    "sind(90), cosd(90)"
   ]
  },
  {
   "cell_type": "markdown",
   "metadata": {},
   "source": [
    "<strong> Cálculo Angular </strong>"
   ]
  },
  {
   "cell_type": "code",
   "execution_count": 10,
   "metadata": {
    "collapsed": false
   },
   "outputs": [
    {
     "data": {
      "text/plain": [
       "1.0471975511965976"
      ]
     },
     "execution_count": 10,
     "metadata": {},
     "output_type": "execute_result"
    }
   ],
   "source": [
    "# Converte x de graus to radianos\n",
    "\n",
    "deg2rad(60)"
   ]
  },
  {
   "cell_type": "code",
   "execution_count": 11,
   "metadata": {
    "collapsed": false
   },
   "outputs": [
    {
     "data": {
      "text/plain": [
       "59.99999999999999"
      ]
     },
     "execution_count": 11,
     "metadata": {},
     "output_type": "execute_result"
    }
   ],
   "source": [
    "# Converte x de radianos para graus\n",
    "\n",
    "rad2deg(1.0471975511965976)"
   ]
  },
  {
   "cell_type": "markdown",
   "metadata": {},
   "source": [
    "** Cálculo Exponenial/Logaritmo**"
   ]
  },
  {
   "cell_type": "code",
   "execution_count": 14,
   "metadata": {
    "collapsed": false
   },
   "outputs": [
    {
     "data": {
      "text/plain": [
       "7.38905609893065"
      ]
     },
     "execution_count": 14,
     "metadata": {},
     "output_type": "execute_result"
    }
   ],
   "source": [
    "# Função exponencial natural em x\n",
    "\n",
    "exp(2)"
   ]
  },
  {
   "cell_type": "code",
   "execution_count": 15,
   "metadata": {
    "collapsed": false
   },
   "outputs": [
    {
     "data": {
      "text/plain": [
       "147.4131591025766"
      ]
     },
     "execution_count": 15,
     "metadata": {},
     "output_type": "execute_result"
    }
   ],
   "source": [
    "#accurate exp (x) -1 para x próximo de zero\n",
    "\n",
    "expm1(5)"
   ]
  },
  {
   "cell_type": "code",
   "execution_count": 27,
   "metadata": {
    "collapsed": false
   },
   "outputs": [
    {
     "data": {
      "text/plain": [
       "4.605170185988092"
      ]
     },
     "execution_count": 27,
     "metadata": {},
     "output_type": "execute_result"
    }
   ],
   "source": [
    "#logaritmo natural de x\n",
    "\n",
    "log(100)"
   ]
  },
  {
   "cell_type": "code",
   "execution_count": 29,
   "metadata": {
    "collapsed": false
   },
   "outputs": [
    {
     "data": {
      "text/plain": [
       "2.0"
      ]
     },
     "execution_count": 29,
     "metadata": {},
     "output_type": "execute_result"
    }
   ],
   "source": [
    "#base b logaritmo de x\n",
    "\n",
    "log(10,100)"
   ]
  },
  {
   "cell_type": "code",
   "execution_count": 30,
   "metadata": {
    "collapsed": false
   },
   "outputs": [
    {
     "data": {
      "text/plain": [
       "6.643856189774724"
      ]
     },
     "execution_count": 30,
     "metadata": {},
     "output_type": "execute_result"
    }
   ],
   "source": [
    "#logaritmo de base 2 x\n",
    "\n",
    "log2(100)"
   ]
  },
  {
   "cell_type": "code",
   "execution_count": 31,
   "metadata": {
    "collapsed": false
   },
   "outputs": [
    {
     "data": {
      "text/plain": [
       "3.0"
      ]
     },
     "execution_count": 31,
     "metadata": {},
     "output_type": "execute_result"
    }
   ],
   "source": [
    "#logaritmo de base 10 x\n",
    "\n",
    "log10(1000)"
   ]
  },
  {
   "cell_type": "code",
   "execution_count": 32,
   "metadata": {
    "collapsed": false
   },
   "outputs": [
    {
     "data": {
      "text/plain": [
       "4.61512051684126"
      ]
     },
     "execution_count": 32,
     "metadata": {},
     "output_type": "execute_result"
    }
   ],
   "source": [
    "#log preciso (1 + x) para x próximo de zero\n",
    "\n",
    "log1p(100)"
   ]
  },
  {
   "cell_type": "markdown",
   "metadata": {},
   "source": [
    "<strong> Binario/Octal/Hexadecimal </strong>"
   ]
  },
  {
   "cell_type": "code",
   "execution_count": 19,
   "metadata": {
    "collapsed": false
   },
   "outputs": [
    {
     "data": {
      "text/plain": [
       "(\"10000000\",\"200\",\"80\")"
      ]
     },
     "execution_count": 19,
     "metadata": {},
     "output_type": "execute_result"
    }
   ],
   "source": [
    "bin(128) ,  oct(128) , hex(128)"
   ]
  },
  {
   "cell_type": "markdown",
   "metadata": {},
   "source": [
    "<strong> Resumo Principais Comandos </strong>"
   ]
  },
  {
   "cell_type": "markdown",
   "metadata": {},
   "source": [
    "<table style=\"float: left;height: 378px; border-color: 0;\" border=\"1\" width=\"491\" cellspacing=\"0\"><colgroup width=\"619\"></colgroup>\n",
    "<tbody>\n",
    "<tr>\n",
    "<td align=\"left\" height=\"17\">round (x) - arredonda para o n&uacute;mero inteiro mais pr&oacute;ximo.</td>\n",
    "</tr>\n",
    "<tr>\n",
    "<td align=\"left\" height=\"17\">iround (x) - arredonda para o n&uacute;mero inteiro mais pr&oacute;ximo, dando um resultado digitado-inteiro.</td>\n",
    "</tr>\n",
    "<tr>\n",
    "<td align=\"left\" height=\"17\">floor (x) - arredonda dire&ccedil;&atilde;o -Inf.</td>\n",
    "</tr>\n",
    "<tr>\n",
    "<td align=\"left\" height=\"17\">ifloor (x) - arredonda dire&ccedil;&atilde;o -Inf, dando um resultado digitado-inteiro.</td>\n",
    "</tr>\n",
    "<tr>\n",
    "<td align=\"left\" height=\"17\">ceil (x) - arredonda dire&ccedil;&atilde;o + Inf.</td>\n",
    "</tr>\n",
    "<tr>\n",
    "<td align=\"left\" height=\"17\">iceil (x) - arredonda dire&ccedil;&atilde;o + Inf, dando um resultado digitado-inteiro.</td>\n",
    "</tr>\n",
    "<tr>\n",
    "<td align=\"left\" height=\"17\">trunc (x) - arredonda para zero.</td>\n",
    "</tr>\n",
    "<tr>\n",
    "<td align=\"left\" height=\"17\">itrunc (x) - arredonda para zero, dando um resultado digitado-inteiro.</td>\n",
    "</tr>\n",
    "<tr>\n",
    "<td align=\"left\" height=\"17\">div (x, y) - truncado divis&atilde;o; quociente truncado.</td>\n",
    "</tr>\n",
    "<tr>\n",
    "<td align=\"left\" height=\"17\">fld (x, y) - divis&atilde;o de base; quociente arredondado em dire&ccedil;&atilde;o -Inf.</td>\n",
    "</tr>\n",
    "<tr>\n",
    "<td align=\"left\" height=\"17\">rem (x, y) - resto; satisfaz x == div (x, y) * + y rem (x, y), o que implica que corresponde sinal x.</td>\n",
    "</tr>\n",
    "<tr>\n",
    "<td align=\"left\" height=\"17\">mod (x, y) - m&oacute;dulo; satisfaz x == fld (x, y) * + y mod (x, y), o que implica que o sinal corresponde y.</td>\n",
    "</tr>\n",
    "<tr>\n",
    "<td align=\"left\" height=\"17\">gcd (x, y ...) - m&aacute;ximo divisor comum de x, y ... com correspond&ecirc;ncia sinal x.</td>\n",
    "</tr>\n",
    "<tr>\n",
    "<td align=\"left\" height=\"17\">lcm (x, y ...) - mínimo m&uacute;ltiplo comum de x, y ... com correspond&ecirc;ncia sinal x.</td>\n",
    "</tr>\n",
    "<tr>\n",
    "<td align=\"left\" height=\"17\">ABS (X) - um valor positivo com a magnitude de x.</td>\n",
    "</tr>\n",
    "<tr>\n",
    "<td align=\"left\" height=\"17\">Abs2 (X) - a magnitude quadrada de x.</td>\n",
    "</tr>\n",
    "<tr>\n",
    "<td align=\"left\" height=\"17\">sinal (X) - indica o sinal de x, retornando -1, 0, ou 1.</td>\n",
    "</tr>\n",
    "<tr>\n",
    "<td align=\"left\" height=\"17\">signbit (x) - indica se o bit de sinal est&aacute; ligado (1) ou desligado (0).</td>\n",
    "</tr>\n",
    "</tbody>\n",
    "</table>\n",
    "\n",
    "<table style=\"float: left;height: 378px;\" border=\"1\" width=\"490\" cellspacing=\"0\"><colgroup width=\"619\"></colgroup>\n",
    "<tbody>\n",
    "<tr>\n",
    "<td align=\"left\" height=\"17\">copysign (x, y) - um valor com a magnitude de x e o sinal do y.</td>\n",
    "</tr>\n",
    "<tr>\n",
    "<td align=\"left\" height=\"17\">flipsign (x, y) - um valor com a magnitude de X e o sinal de x * y.</td>\n",
    "</tr>\n",
    "<tr>\n",
    "<td align=\"left\" height=\"17\">sqrt (X) - a raiz quadrada de x.</td>\n",
    "</tr>\n",
    "<tr>\n",
    "<td align=\"left\" height=\"17\">cbrt (x) - a raiz c&uacute;bica de x.</td>\n",
    "</tr>\n",
    "<tr>\n",
    "<td align=\"left\" height=\"17\">hypot (x, y) - sqrt (x + y ^ 2 ^ 2) para todos os valores de x e y.</td>\n",
    "</tr>\n",
    "<tr>\n",
    "<td align=\"left\" height=\"17\">exp (x) - a fun&ccedil;&atilde;o exponencial natural em x.</td>\n",
    "</tr>\n",
    "<tr>\n",
    "<td align=\"left\" height=\"17\">expm1 (X) - exp (x) -1 x para proximo zero.</td>\n",
    "</tr>\n",
    "<tr>\n",
    "<td align=\"left\" height=\"17\">ldexp (x, n) - x * 2 ^ n calculado de forma eficiente para valores inteiros de n.</td>\n",
    "</tr>\n",
    "<tr>\n",
    "<td align=\"left\" height=\"17\">log (x) - o logaritmo natural de x.</td>\n",
    "</tr>\n",
    "<tr>\n",
    "<td align=\"left\" height=\"17\">log (b, x) - a base b logaritmo de x.</td>\n",
    "</tr>\n",
    "<tr>\n",
    "<td align=\"left\" height=\"17\">log2 (x) - o logaritmo de base 2 x.</td>\n",
    "</tr>\n",
    "<tr>\n",
    "<td align=\"left\" height=\"17\">log10 (x) - o logaritmo de base 10 de x.</td>\n",
    "</tr>\n",
    "<tr>\n",
    "<td align=\"left\" height=\"17\">log1p (X) - registo preciso (1 + x) x para proximo de zero.</td>\n",
    "</tr>\n",
    "<tr>\n",
    "<td align=\"left\" height=\"17\">logb (x) - retorna o expoente bin&aacute;rio de x.</td>\n",
    "</tr>\n",
    "<tr>\n",
    "<td align=\"left\" height=\"17\">erf (x) - a fun&ccedil;&atilde;o de erro em x.</td>\n",
    "</tr>\n",
    "<tr>\n",
    "<td align=\"left\" height=\"17\">ERFC (x) -  1-erf (x) para x.</td>\n",
    "</tr>\n",
    "<tr>\n",
    "<td align=\"left\" height=\"17\">gama (X) - a fun&ccedil;&atilde;o gama em x.</td>\n",
    "</tr>\n",
    "<tr>\n",
    "<td align=\"left\" height=\"17\">lgamma (X) -  log (gama (x)), de maior x.</td>\n",
    "</tr>\n",
    "</tbody>\n",
    "</table>"
   ]
  },
  {
   "cell_type": "markdown",
   "metadata": {},
   "source": [
    "### MEMÓRIAS DE CÉLULAS"
   ]
  },
  {
   "cell_type": "code",
   "execution_count": 20,
   "metadata": {
    "collapsed": false,
    "scrolled": true
   },
   "outputs": [
    {
     "data": {
      "text/plain": [
       "6.159287546660801"
      ]
     },
     "execution_count": 20,
     "metadata": {},
     "output_type": "execute_result"
    }
   ],
   "source": [
    "4+log(125)/sqrt(5)"
   ]
  },
  {
   "cell_type": "code",
   "execution_count": 21,
   "metadata": {
    "collapsed": false
   },
   "outputs": [
    {
     "data": {
      "text/plain": [
       "6.159287546660801"
      ]
     },
     "execution_count": 21,
     "metadata": {},
     "output_type": "execute_result"
    }
   ],
   "source": [
    "# calculo anterior\n",
    "\n",
    "ans"
   ]
  },
  {
   "cell_type": "code",
   "execution_count": 22,
   "metadata": {
    "collapsed": false,
    "scrolled": true
   },
   "outputs": [
    {
     "data": {
      "text/plain": [
       "7"
      ]
     },
     "execution_count": 22,
     "metadata": {},
     "output_type": "execute_result"
    }
   ],
   "source": [
    "# Out[numero da celula que deseja recuperar a saída]\n",
    "\n",
    "Out[3] "
   ]
  },
  {
   "cell_type": "code",
   "execution_count": 23,
   "metadata": {
    "collapsed": false
   },
   "outputs": [
    {
     "data": {
      "text/plain": [
       "\"versioninfo()\""
      ]
     },
     "execution_count": 23,
     "metadata": {},
     "output_type": "execute_result"
    }
   ],
   "source": [
    "# In[numero da celula que deseja recuperar a saída]\n",
    "\n",
    "In[2]"
   ]
  },
  {
   "cell_type": "markdown",
   "metadata": {},
   "source": [
    "<strong>Historico dos Comandos</strong>"
   ]
  },
  {
   "cell_type": "code",
   "execution_count": 24,
   "metadata": {
    "collapsed": false,
    "scrolled": false
   },
   "outputs": [
    {
     "data": {
      "text/plain": [
       "Dict{Int64,UTF8String} with 24 entries:\n",
       "  18 => \"# Para o angulo em grau (º), acrescenta-se o \\\"d\\\"\\n\\nsind(90), cosd(9…\n",
       "  2  => \"versioninfo()\"\n",
       "  16 => \"# radiandos\\n\\nsin(pi/4) , cos(pi) , tan(pi/4)\"\n",
       "  11 => \"# jogos da mega sena. Claro que não é lá essas coisas né\\n\\nrand(1:60,…\n",
       "  21 => \"# calculo anterior\\n\\nans\"\n",
       "  7  => \"(2+5)^2/(3+1)^3\"\n",
       "  9  => \"# número aleatório entre 0 e 1\\n\\nrand()\"\n",
       "  10 => \"# 6 numeros aleatorios de 0 a 10\\n\\nrand(0:10, 6)\"\n",
       "  19 => \"bin(128) ,  oct(128) , hex(128)\"\n",
       "  17 => \"coth(pi/4), csc(pi/4) , sec(pi/4)\"\n",
       "  8  => \"sin(pi/2)\"\n",
       "  22 => \"# Out[numero da celula que deseja recuperar a saída]\\n\\nOut[3] \"\n",
       "  6  => \"2^6\"\n",
       "  24 => \"# mostra todos os comandos de entrada\\n\\nIn\"\n",
       "  4  => \"10e-2\"\n",
       "  3  => \"2+5\"\n",
       "  5  => \"# e^3\\n\\nexp(3)\"\n",
       "  20 => \"4+log(125)/sqrt(5)\"\n",
       "  23 => \"# In[numero da celula que deseja recuperar a saída]\\n\\nIn[2]\"\n",
       "  13 => \"# MMC\\n\\nlcm(7,14)\"\n",
       "  14 => \"sqrt(2) , 2.0*3.0^-2\"\n",
       "  15 => \"# se usado o ponto e virgula, só será impresso a ultimo cálculo\\n\\nsqr…\n",
       "  12 => \"# MDC\\n\\ngcd(7,14)\"\n",
       "  1  => \"10e-2\""
      ]
     },
     "execution_count": 24,
     "metadata": {},
     "output_type": "execute_result"
    }
   ],
   "source": [
    "# mostra todos os comandos de entrada\n",
    "\n",
    "In"
   ]
  },
  {
   "cell_type": "code",
   "execution_count": 25,
   "metadata": {
    "collapsed": false
   },
   "outputs": [
    {
     "data": {
      "text/plain": [
       "Dict{Int64,Any} with 23 entries:\n",
       "  18 => (1.0,0.0)\n",
       "  16 => (0.7071067811865475,-1.0,0.9999999999999999)\n",
       "  11 => ([41,46,45,45,57,21],[1,1,8,1,48,5],[31,17,31,5,7,15])\n",
       "  21 => 6.159287546660801\n",
       "  7  => 0.765625\n",
       "  9  => 0.2632755453481439\n",
       "  10 => [2,3,6,3,9,9]\n",
       "  19 => (\"10000000\",\"200\",\"80\")\n",
       "  17 => (1.5248686188220641,1.4142135623730951,1.414213562373095)\n",
       "  8  => 1.0\n",
       "  22 => 7\n",
       "  6  => 64\n",
       "  24 => Dict(18=>\"# Para o angulo em grau (º), acrescenta-se o \\\"d\\\"\\n\\nsind(90…\n",
       "  4  => 0.1\n",
       "  3  => 7\n",
       "  5  => 20.085536923187668\n",
       "  20 => 6.159287546660801\n",
       "  23 => \"versioninfo()\"\n",
       "  13 => 14\n",
       "  14 => (1.4142135623730951,0.2222222222222222)\n",
       "  15 => 0.2222222222222222\n",
       "  12 => 7\n",
       "  1  => 0.1"
      ]
     },
     "execution_count": 25,
     "metadata": {},
     "output_type": "execute_result"
    }
   ],
   "source": [
    "# mostra todos os comandos de saída\n",
    "\n",
    "Out"
   ]
  },
  {
   "cell_type": "markdown",
   "metadata": {},
   "source": [
    "### CALCULAR O TEMPO E PROCESSAMENTO"
   ]
  },
  {
   "cell_type": "markdown",
   "metadata": {},
   "source": [
    "** @time**\n",
    "\n",
    "Uma macro para executar uma expressão, imprimindo o tempo que levou para executar, o número de alocações, e o número total de bytes sua execução."
   ]
  },
  {
   "cell_type": "code",
   "execution_count": 2,
   "metadata": {
    "collapsed": false,
    "scrolled": true
   },
   "outputs": [
    {
     "name": "stdout",
     "output_type": "stream",
     "text": [
      "  "
     ]
    },
    {
     "data": {
      "text/plain": [
       "4.543647706547242"
      ]
     },
     "execution_count": 2,
     "metadata": {},
     "output_type": "execute_result"
    },
    {
     "name": "stdout",
     "output_type": "stream",
     "text": [
      "0.000016 seconds (18 allocations: 384 bytes)\n"
     ]
    }
   ],
   "source": [
    "@time sqrt((2*pi + sqrt(log(2569854.5415263))/(sin(52)*cos(log(25948.1452))))^100)*exp(sin(0.8985424))"
   ]
  },
  {
   "cell_type": "markdown",
   "metadata": {},
   "source": [
    "** @timev **\n",
    "\n",
    "Semelhante ao @time só que mais completa"
   ]
  },
  {
   "cell_type": "code",
   "execution_count": 3,
   "metadata": {
    "collapsed": false
   },
   "outputs": [
    {
     "name": "stdout",
     "output_type": "stream",
     "text": [
      "  "
     ]
    },
    {
     "data": {
      "text/plain": [
       "4.543647706547242"
      ]
     },
     "execution_count": 3,
     "metadata": {},
     "output_type": "execute_result"
    },
    {
     "name": "stdout",
     "output_type": "stream",
     "text": [
      "0.000018 seconds (18 allocations: 384 bytes)\n",
      "elapsed time (ns): 17646\n",
      "bytes allocated:   384\n",
      "pool allocs:       18\n"
     ]
    }
   ],
   "source": [
    "@timev sqrt((2*pi + sqrt(log(2569854.5415263))/(sin(52)*cos(log(25948.1452))))^100)*exp(sin(0.8985424))"
   ]
  },
  {
   "cell_type": "markdown",
   "metadata": {},
   "source": [
    "**@elapsed **\n",
    "\n",
    "A macro para avaliar o tempo de execuçã em segundos, descartando o valor resultante."
   ]
  },
  {
   "cell_type": "code",
   "execution_count": 4,
   "metadata": {
    "collapsed": false
   },
   "outputs": [
    {
     "data": {
      "text/plain": [
       "1.5706e-5"
      ]
     },
     "execution_count": 4,
     "metadata": {},
     "output_type": "execute_result"
    }
   ],
   "source": [
    "@elapsed sqrt((2*pi + sqrt(log(2569854.5415263))/(sin(52)*cos(log(25948.1452))))^100)*exp(sin(0.8985424))"
   ]
  },
  {
   "cell_type": "markdown",
   "metadata": {},
   "source": [
    "###PRECISÃO DE NUMEROS SIGNIFICATIVOS###"
   ]
  },
  {
   "cell_type": "code",
   "execution_count": 2,
   "metadata": {
    "collapsed": false,
    "scrolled": true
   },
   "outputs": [
    {
     "data": {
      "text/plain": [
       "3.14159265"
      ]
     },
     "execution_count": 2,
     "metadata": {},
     "output_type": "execute_result"
    }
   ],
   "source": [
    "# numero PI com oito numeros significativos\n",
    "\n",
    "round(pi,8)"
   ]
  },
  {
   "cell_type": "code",
   "execution_count": 15,
   "metadata": {
    "collapsed": false
   },
   "outputs": [
    {
     "data": {
      "text/plain": [
       "3.0"
      ]
     },
     "execution_count": 15,
     "metadata": {},
     "output_type": "execute_result"
    }
   ],
   "source": [
    "floor(3.14159265)"
   ]
  },
  {
   "cell_type": "code",
   "execution_count": 16,
   "metadata": {
    "collapsed": false
   },
   "outputs": [
    {
     "data": {
      "text/plain": [
       "4.0"
      ]
     },
     "execution_count": 16,
     "metadata": {},
     "output_type": "execute_result"
    }
   ],
   "source": [
    "ceil(3.14159265)"
   ]
  },
  {
   "cell_type": "code",
   "execution_count": 17,
   "metadata": {
    "collapsed": false
   },
   "outputs": [
    {
     "data": {
      "text/plain": [
       "3.0"
      ]
     },
     "execution_count": 17,
     "metadata": {},
     "output_type": "execute_result"
    }
   ],
   "source": [
    "trunc(3.14159265)"
   ]
  },
  {
   "cell_type": "markdown",
   "metadata": {
    "collapsed": false
   },
   "source": [
    "### COMANDOS DE IMPRESSÃO"
   ]
  },
  {
   "cell_type": "markdown",
   "metadata": {},
   "source": [
    "**Comando print()**\n",
    "\n",
    "Escreve (para o fluxo de saída padrão) uma representação de texto ou de um valor se houver. A representação usada pelo comando inclui formatação mínima."
   ]
  },
  {
   "cell_type": "code",
   "execution_count": 28,
   "metadata": {
    "collapsed": false
   },
   "outputs": [
    {
     "name": "stdout",
     "output_type": "stream",
     "text": [
      "0.007777 seconds (5.71 k allocations: 230.447 KB)\n",
      "olá mundo"
     ]
    }
   ],
   "source": [
    "print(\"olá mundo\")"
   ]
  },
  {
   "cell_type": "markdown",
   "metadata": {},
   "source": [
    "**Comando display**\n",
    "\n",
    "Usa o nível superior de exibição aplicável na pilha de exibição, geralmente usando a mais rica produção multimedia com suporte para x"
   ]
  },
  {
   "cell_type": "code",
   "execution_count": 29,
   "metadata": {
    "collapsed": false
   },
   "outputs": [
    {
     "data": {
      "text/plain": [
       "\"olá mundo\""
      ]
     },
     "metadata": {},
     "output_type": "display_data"
    }
   ],
   "source": [
    "display(\"olá mundo\")"
   ]
  },
  {
   "cell_type": "markdown",
   "metadata": {},
   "source": [
    "**Comando show()**\n",
    "\n",
    "Semenhante ao display"
   ]
  },
  {
   "cell_type": "code",
   "execution_count": 30,
   "metadata": {
    "collapsed": false,
    "scrolled": true
   },
   "outputs": [
    {
     "name": "stdout",
     "output_type": "stream",
     "text": [
      "\"olá mundo\""
     ]
    }
   ],
   "source": [
    "show(\"olá mundo\")"
   ]
  }
 ],
 "metadata": {
  "kernelspec": {
   "display_name": "Julia 0.4.5",
   "language": "julia",
   "name": "julia-0.4"
  },
  "language_info": {
   "file_extension": ".jl",
   "mimetype": "application/julia",
   "name": "julia",
   "version": "0.4.5"
  }
 },
 "nbformat": 4,
 "nbformat_minor": 0
}
